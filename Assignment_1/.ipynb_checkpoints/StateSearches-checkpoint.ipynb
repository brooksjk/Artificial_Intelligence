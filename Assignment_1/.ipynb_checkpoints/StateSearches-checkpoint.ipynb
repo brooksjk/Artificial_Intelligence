{
 "cells": [
  {
   "cell_type": "code",
   "execution_count": 1,
   "id": "079ca4cf-7b8a-4def-9716-aece0171e6e0",
   "metadata": {},
   "outputs": [],
   "source": [
    "from collections import deque"
   ]
  },
  {
   "cell_type": "markdown",
   "id": "14d177a5-ea6b-44ed-8be2-5ec627f3c46e",
   "metadata": {},
   "source": [
    "# PART E"
   ]
  },
  {
   "cell_type": "code",
   "execution_count": 2,
   "id": "1f9d0fb8-77e5-4555-a745-7d69165257a3",
   "metadata": {},
   "outputs": [
    {
     "name": "stdout",
     "output_type": "stream",
     "text": [
      "Initial State: 724506831\n",
      "Goal state: 012345678\n",
      "Sequence of actions: [3, 2, 4, 1, 1, 3, 2, 4, 4, 2, 3, 3, 1, 4, 4, 1, 3, 2, 4, 2, 3, 1, 1, 3, 2, 2]\n",
      "Number of moves: 26\n"
     ]
    }
   ],
   "source": [
    "def is_goal_state(state):\n",
    "    return state == '012345678'\n",
    "\n",
    "def generate_successors(state):\n",
    "    successors = []\n",
    "    zero_index = state.index('0')\n",
    "    # possible moves: up, down, left, right\n",
    "    moves = [(1, 0, 1), (-1, 0, 2), (0, -1, 3), (0, 1, 4)]\n",
    "    for dx, dy, direction in moves:\n",
    "        x, y = zero_index // 3 + dx, zero_index % 3 + dy\n",
    "        if 0 <= x < 3 and 0 <= y < 3:\n",
    "            new_index = x * 3 + y\n",
    "            new_state = list(state)\n",
    "            new_state[zero_index], new_state[new_index] = new_state[new_index], new_state[zero_index]\n",
    "            successors.append((direction, ''.join(new_state)))\n",
    "    return successors\n",
    "\n",
    "def bfs(initial_state):\n",
    "    queue = deque([(initial_state, [])])\n",
    "    visited = set()\n",
    "\n",
    "    while queue:\n",
    "        state, actions = queue.popleft()\n",
    "        if is_goal_state(state):\n",
    "            return actions\n",
    "        visited.add(state)\n",
    "        successors = generate_successors(state)\n",
    "        for action, successor in successors:\n",
    "            if successor not in visited:\n",
    "                queue.append((successor, actions + [action]))\n",
    "                visited.add(successor)\n",
    "    return None\n",
    "\n",
    "initial_state = '724506831'  # initial state\n",
    "actions = bfs(initial_state)\n",
    "if actions:\n",
    "    print(\"Initial State:\", initial_state)\n",
    "    print(\"Goal state: 012345678\")\n",
    "    print(\"Sequence of actions:\", actions)\n",
    "    print(\"Number of moves:\", len(actions))\n",
    "else:\n",
    "    print(\"Goal state not reachable from the initial state.\")\n"
   ]
  },
  {
   "cell_type": "markdown",
   "id": "ce81b639-b85d-4621-9c0c-c48904afe393",
   "metadata": {},
   "source": [
    "# PART F"
   ]
  },
  {
   "cell_type": "code",
   "execution_count": 3,
   "id": "15b014f4-30b0-489b-a41f-13ba8f835acd",
   "metadata": {},
   "outputs": [
    {
     "name": "stdout",
     "output_type": "stream",
     "text": [
      "Initial State: 724506831\n",
      "Goal state: 012345678\n",
      "Sequence of actions: [1, 4, 2, 2, 3, 1, 3, 2, 4, 4, 1, 3, 1, 4, 2, 2, 3, 1, 1, 3, 2, 4, 4, 1, 3, 3, 2, 2]\n",
      "Number of moves: 28\n"
     ]
    }
   ],
   "source": [
    "def is_goal_state(state):\n",
    "    return state == '012345678'\n",
    "\n",
    "def generate_successors(state):\n",
    "    successors = []\n",
    "    zero_index = state.index('0')\n",
    "    # possible moves: up, down, left, right\n",
    "    moves = [(1, 0, 1), (-1, 0, 2), (0, -1, 3), (0, 1, 4)]\n",
    "    for dx, dy, direction in moves:\n",
    "        x, y = zero_index // 3 + dx, zero_index % 3 + dy\n",
    "        if 0 <= x < 3 and 0 <= y < 3:\n",
    "            new_index = x * 3 + y\n",
    "            new_state = list(state)\n",
    "            new_state[zero_index], new_state[new_index] = new_state[new_index], new_state[zero_index]\n",
    "            successors.append((direction, ''.join(new_state)))\n",
    "    return successors\n",
    "\n",
    "def iddfs(initial_state):\n",
    "    depth_limit = 0\n",
    "    while True:\n",
    "        result = dfs(initial_state, [], depth_limit, set())\n",
    "        if result is not None:\n",
    "            return result\n",
    "        depth_limit += 1\n",
    "\n",
    "def dfs(state, actions, depth_limit, visited):\n",
    "    if is_goal_state(state):\n",
    "        return actions\n",
    "    if len(actions) >= depth_limit:\n",
    "        return None\n",
    "    visited.add(state)\n",
    "    successors = generate_successors(state)\n",
    "    for action, successor in successors:\n",
    "        if successor not in visited and successor not in actions:  # Pruning and cycle detection\n",
    "            result = dfs(successor, actions + [action], depth_limit, visited)\n",
    "            if result is not None:\n",
    "                return result\n",
    "    return None\n",
    "\n",
    "initial_state = '724506831'\n",
    "actions = iddfs(initial_state)\n",
    "if actions:\n",
    "    print(\"Initial State:\", initial_state)\n",
    "    print(\"Goal state: 012345678\")\n",
    "    print(\"Sequence of actions:\", actions)\n",
    "    print(\"Number of moves:\", len(actions))\n",
    "else:\n",
    "    print(\"Goal state not reachable from the initial state.\")"
   ]
  },
  {
   "cell_type": "raw",
   "id": "d9a8ef48-9727-4975-add5-6c8649b3e3a2",
   "metadata": {},
   "source": [
    "In this case, Depth First Search (DFS) took more moves than Breadth First Search (BFS) to find the goal state. This is likly due to the tendency of DFS to explore deeper branches of the search tree before backtracking. While BFS systematically explores all possible moves at each level of the search tree, DFS may prioritize exploring deeper levels first, potentially leading to longer solution paths before finding the goal state."
   ]
  },
  {
   "cell_type": "markdown",
   "id": "cf55baa4-99ff-4fee-9397-67a32f739f5f",
   "metadata": {},
   "source": [
    "# PART G"
   ]
  },
  {
   "cell_type": "code",
   "execution_count": 4,
   "id": "2202c0c9-bdd8-4763-98fc-8793a6a017e1",
   "metadata": {},
   "outputs": [
    {
     "name": "stdout",
     "output_type": "stream",
     "text": [
      "Initial State: 821457630\n",
      "Goal state: 123804765\n",
      "Sequence of actions: [3, 2, 3, 1, 4, 2, 4, 1, 3, 3, 2, 4, 2, 4, 1, 1, 3, 3, 2, 2, 4, 1]\n",
      "Number of moves: 22\n"
     ]
    }
   ],
   "source": [
    "def is_goal_state(state):\n",
    "    return state == '123804765'\n",
    "\n",
    "def generate_successors(state):\n",
    "    successors = []\n",
    "    zero_index = state.index('0')\n",
    "    # Define possible moves: up, down, left, right\n",
    "    moves = [(1, 0, 1), (-1, 0, 2), (0, -1, 3), (0, 1, 4)]\n",
    "    for dx, dy, direction in moves:\n",
    "        x, y = zero_index // 3 + dx, zero_index % 3 + dy\n",
    "        if 0 <= x < 3 and 0 <= y < 3:\n",
    "            new_index = x * 3 + y\n",
    "            new_state = list(state)\n",
    "            new_state[zero_index], new_state[new_index] = new_state[new_index], new_state[zero_index]\n",
    "            successors.append((direction, ''.join(new_state)))\n",
    "    return successors\n",
    "\n",
    "def bfs(initial_state):\n",
    "    queue = deque([(initial_state, [])])\n",
    "    visited = set()\n",
    "\n",
    "    while queue:\n",
    "        state, actions = queue.popleft()\n",
    "        if is_goal_state(state):\n",
    "            return actions\n",
    "        visited.add(state)\n",
    "        successors = generate_successors(state)\n",
    "        for action, successor in successors:\n",
    "            if successor not in visited:\n",
    "                queue.append((successor, actions + [action]))\n",
    "                visited.add(successor)\n",
    "    return None\n",
    "\n",
    "# could not find an initial state which worked for all E-G, so gave G a different inital state \n",
    "initial_state = '821457630'  # initial state\n",
    "actions = bfs(initial_state)\n",
    "if actions:\n",
    "    print(\"Initial State:\", initial_state)\n",
    "    print(\"Goal state: 123804765\")\n",
    "    print(\"Sequence of actions:\", actions)\n",
    "    print(\"Number of moves:\", len(actions))\n",
    "else:\n",
    "    print(\"Goal state not reachable from the initial state.\")\n"
   ]
  },
  {
   "cell_type": "markdown",
   "id": "40cf6eb7-c3c0-4e9f-be8d-7bdf656a8633",
   "metadata": {},
   "source": [
    "# PART H (1)"
   ]
  },
  {
   "cell_type": "code",
   "execution_count": 5,
   "id": "93f543f9-e9c0-4dab-b7b9-7871af4b7107",
   "metadata": {},
   "outputs": [
    {
     "name": "stdout",
     "output_type": "stream",
     "text": [
      "Initial State: 514236870\n",
      "Goal state: 123804765\n",
      "Sequence of actions: [2, 3, 2, 3, 1, 4, 2, 4, 1, 3, 2, 3, 1, 1, 4, 4, 2, 3]\n",
      "Cost: 18\n",
      "Number of moves: 18\n"
     ]
    }
   ],
   "source": [
    "def is_goal_state(state):\n",
    "    return state == '123804765'\n",
    "\n",
    "def generate_successors(state):\n",
    "    successors = []\n",
    "    zero_index = state.index('0')\n",
    "    # possible moves: up, down, left, right\n",
    "    # equal cost for all moves \n",
    "    moves = [(1, 0, 1, 1), (-1, 0, 1, 2), (0, -1, 1, 3), (0, 1, 1, 4)]\n",
    "    for dx, dy, cost, direction in moves:\n",
    "        x, y = zero_index // 3 + dx, zero_index % 3 + dy\n",
    "        if 0 <= x < 3 and 0 <= y < 3:\n",
    "            new_index = x * 3 + y\n",
    "            new_state = list(state)\n",
    "            new_state[zero_index], new_state[new_index] = new_state[new_index], new_state[zero_index]\n",
    "            successors.append((direction, ''.join(new_state), cost))\n",
    "    return successors\n",
    "\n",
    "def ucs(initial_state):\n",
    "    queue = deque([(initial_state, [], 0)])  # item in queue is a tuple (state, actions, total_cost)\n",
    "    visited = set()\n",
    "\n",
    "    while queue:\n",
    "        state, actions, total_cost = queue.popleft()\n",
    "        if is_goal_state(state):\n",
    "            return actions, total_cost\n",
    "        visited.add(state)\n",
    "        #print(\"State:\", state)  # print states visted \n",
    "        successors = generate_successors(state)\n",
    "        for action, successor, cost in successors:\n",
    "            if successor not in visited:\n",
    "                queue.append((successor, actions + [action], total_cost + cost))\n",
    "                visited.add(successor)\n",
    "    return None, None\n",
    "\n",
    "initial_state = '514236870'  # initial state\n",
    "actions, total_cost = ucs(initial_state)\n",
    "if actions:\n",
    "    print(\"Initial State:\", initial_state)\n",
    "    print(\"Goal state: 123804765\")\n",
    "    print(\"Sequence of actions:\", actions)\n",
    "    print(\"Cost:\", total_cost)\n",
    "    print(\"Number of moves:\", len(actions))\n",
    "else:\n",
    "    print(\"Goal state not reachable from the initial state.\")\n"
   ]
  },
  {
   "cell_type": "markdown",
   "id": "14716d81-871e-4465-a178-3bc3a2b90e75",
   "metadata": {},
   "source": [
    "# PART H (2)"
   ]
  },
  {
   "cell_type": "code",
   "execution_count": 6,
   "id": "5cd33060-f4e9-434f-bd96-d75f72999a43",
   "metadata": {},
   "outputs": [
    {
     "name": "stdout",
     "output_type": "stream",
     "text": [
      "Initial State: 514236870\n",
      "Goal state: 123804765\n",
      "Sequence of actions: [2, 3, 2, 3, 1, 4, 2, 4, 1, 3, 2, 3, 1, 1, 4, 4, 2, 3]\n",
      "Cost: 21.5\n",
      "Number of moves: 18\n"
     ]
    }
   ],
   "source": [
    "def is_goal_state(state):\n",
    "    return state == '123804765'\n",
    "\n",
    "def generate_successors(state):\n",
    "    successors = []\n",
    "    zero_index = state.index('0')\n",
    "    # possible moves: up, down, left, right\n",
    "    # included updated costs\n",
    "    moves = [(1, 0, 1.5, 1), (-1, 0, 0.5, 2), (0, -1, 1, 3), (0, 1, 2, 4)]\n",
    "    for dx, dy, cost, direction in moves:\n",
    "        x, y = zero_index // 3 + dx, zero_index % 3 + dy\n",
    "        if 0 <= x < 3 and 0 <= y < 3:\n",
    "            new_index = x * 3 + y\n",
    "            new_state = list(state)\n",
    "            new_state[zero_index], new_state[new_index] = new_state[new_index], new_state[zero_index]\n",
    "            successors.append((direction, ''.join(new_state), cost))\n",
    "    return successors\n",
    "\n",
    "def ucs(initial_state):\n",
    "    queue = deque([(initial_state, [], 0)])  # item in queue is a tuple (state, actions, total_cost)\n",
    "    visited = set()\n",
    "\n",
    "    while queue:\n",
    "        state, actions, total_cost = queue.popleft()\n",
    "        if is_goal_state(state):\n",
    "            return actions, total_cost\n",
    "        visited.add(state)\n",
    "        #print(\"State:\", state)  # print states visted \n",
    "        successors = generate_successors(state)\n",
    "        for action, successor, cost in successors:\n",
    "            if successor not in visited:\n",
    "                queue.append((successor, actions + [action], total_cost + cost))\n",
    "                visited.add(successor)\n",
    "    return None, None\n",
    "\n",
    "initial_state = '514236870'  # initial state\n",
    "actions, total_cost = ucs(initial_state)\n",
    "if actions:\n",
    "    print(\"Initial State:\", initial_state)\n",
    "    print(\"Goal state: 123804765\")\n",
    "    print(\"Sequence of actions:\", actions)\n",
    "    print(\"Cost:\", total_cost)\n",
    "    print(\"Number of moves:\", len(actions))\n",
    "else:\n",
    "    print(\"Goal state not reachable from the initial state.\")\n"
   ]
  },
  {
   "cell_type": "raw",
   "id": "26cb188a-9ec5-47a8-9321-7726fa63155e",
   "metadata": {},
   "source": [
    "In  a Uniform Cost Search (UCS), despite higher costs associated with certain moves in part 2 compared to part 1, the same number of moves is made in both scenarios. This is because UCS prioritizes minimizing the total path cost rather than solely minimizing the number of moves. As a result, even though some moves are more costly in part 2, UCS selects them if they contribute to the optimal solution path in terms of the total path cost, resulting in the same number of moves being made in both cases."
   ]
  }
 ],
 "metadata": {
  "kernelspec": {
   "display_name": "Python 3 (ipykernel)",
   "language": "python",
   "name": "python3"
  },
  "language_info": {
   "codemirror_mode": {
    "name": "ipython",
    "version": 3
   },
   "file_extension": ".py",
   "mimetype": "text/x-python",
   "name": "python",
   "nbconvert_exporter": "python",
   "pygments_lexer": "ipython3",
   "version": "3.9.12"
  }
 },
 "nbformat": 4,
 "nbformat_minor": 5
}
