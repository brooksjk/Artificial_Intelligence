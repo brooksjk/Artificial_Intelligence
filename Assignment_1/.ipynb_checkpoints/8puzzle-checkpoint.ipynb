{
 "cells": [
  {
   "cell_type": "code",
   "execution_count": 6,
   "id": "bf10482d-be78-456d-8eb8-0d0ed4f3eac6",
   "metadata": {},
   "outputs": [],
   "source": [
    "import random\n",
    "import copy\n",
    "from itertools import permutations"
   ]
  },
  {
   "cell_type": "markdown",
   "id": "71e71356-a749-4d7b-b957-99aa92c630e4",
   "metadata": {},
   "source": [
    "# PART A"
   ]
  },
  {
   "cell_type": "code",
   "execution_count": 2,
   "id": "dd08f378-9f37-4c18-b2b8-1f5e3adf7975",
   "metadata": {},
   "outputs": [],
   "source": [
    "def generate_all_states():\n",
    "   \n",
    "    numbers_str = \"012345678\"\n",
    "    all_permutations = permutations(numbers_str) #find all version of the puzzle \n",
    "    all_states = [''.join(permutation) for permutation in all_permutations]\n",
    "\n",
    "    return all_states\n",
    "\n",
    "#prints all possible states \n",
    "##all_states = generate_all_states()\n",
    "##for state in all_states:\n",
    "    ##print(state)"
   ]
  },
  {
   "cell_type": "markdown",
   "id": "107445fa-8845-436f-8f75-6616dac96b00",
   "metadata": {},
   "source": [
    "# PART B"
   ]
  },
  {
   "cell_type": "code",
   "execution_count": 3,
   "id": "fca24003-15f1-4efc-9cb4-e1bd3f1c221d",
   "metadata": {},
   "outputs": [
    {
     "name": "stdout",
     "output_type": "stream",
     "text": [
      "528610743\n",
      "327640185\n",
      "147258063\n",
      "307265418\n",
      "720634185\n",
      "708561432\n",
      "187462305\n",
      "365078214\n",
      "308725614\n",
      "278634105\n"
     ]
    }
   ],
   "source": [
    "def is_odd_neighbor(state):\n",
    "    odd_indices = [i for i, digit in enumerate(state) if int(digit) % 2 != 0]\n",
    "    for i in range(len(odd_indices) - 1):\n",
    "        if abs(odd_indices[i] - odd_indices[i + 1]) == 1:\n",
    "            return True\n",
    "    return False\n",
    "\n",
    "def generate_random_states(num_states):\n",
    "    all_states = generate_all_states()\n",
    "    valid_states = [state for state in all_states if not is_odd_neighbor(state)]\n",
    "    selected_states = random.sample(valid_states, min(num_states, len(valid_states)))\n",
    "\n",
    "    return selected_states\n",
    "\n",
    "random_states = generate_random_states(10)\n",
    "for state in random_states:\n",
    "    print(state)"
   ]
  },
  {
   "cell_type": "markdown",
   "id": "6659ac40-4d38-425a-9ea7-ccefaef7d1f1",
   "metadata": {},
   "source": [
    "# PART C"
   ]
  },
  {
   "cell_type": "code",
   "execution_count": 17,
   "id": "5fea0c05-295e-45f1-a6e3-08775fe270f8",
   "metadata": {},
   "outputs": [
    {
     "name": "stdin",
     "output_type": "stream",
     "text": [
      "What is the current state? 724506831\n",
      "What action do you want to take? [1-Up 2-Down 3-Left 4-Right] 3\n"
     ]
    },
    {
     "name": "stdout",
     "output_type": "stream",
     "text": [
      "Input state: 724506831, Action: 3, Output state: 724056831\n"
     ]
    }
   ],
   "source": [
    "def apply_action(current_state, action):\n",
    "    # int to list of ints \n",
    "    state_list = [int(digit) for digit in str(current_state)]\n",
    "\n",
    "    empty_index = state_list.index(0)\n",
    "\n",
    "    # dimensions of the grid\n",
    "    rows, cols = 3, 3\n",
    "\n",
    "    new_state_list = state_list.copy() \n",
    "    \n",
    "    # perform the action\n",
    "    if action == 1 and empty_index >= cols:  # up\n",
    "        state_list[empty_index], state_list[empty_index - cols] = state_list[empty_index - cols], state_list[empty_index]\n",
    "    elif action == 2 and empty_index < (rows - 1) * cols:  # down\n",
    "        state_list[empty_index], state_list[empty_index + cols] = state_list[empty_index + cols], state_list[empty_index]\n",
    "    elif action == 3 and empty_index % cols != 0:  # left\n",
    "        state_list[empty_index], state_list[empty_index - 1] = state_list[empty_index - 1], state_list[empty_index]\n",
    "    elif action == 4 and (empty_index + 1) % cols != 0:  # right\n",
    "        state_list[empty_index], state_list[empty_index + 1] = state_list[empty_index + 1], state_list[empty_index]\n",
    "\n",
    "    # list to integer \n",
    "    new_state = int(''.join(map(str, state_list)))\n",
    "\n",
    "    return new_state\n",
    "\n",
    "# getting user input and callling function to find new state\n",
    "current_state =int(input(\"What is the current state?\"))\n",
    "action =int(input(\"What action do you want to take? [1-Up 2-Down 3-Left 4-Right]\"))\n",
    "resulting_state = apply_action(current_state, action)\n",
    "print(f\"Input state: {current_state}, Action: {action}, Output state: {resulting_state}\")"
   ]
  },
  {
   "cell_type": "markdown",
   "id": "65c15945-129e-407e-8ade-8ca03f8c8b8e",
   "metadata": {},
   "source": [
    "# PART D"
   ]
  },
  {
   "cell_type": "code",
   "execution_count": 16,
   "id": "06dcae9f-051a-4184-8a62-b5abacde6aa0",
   "metadata": {},
   "outputs": [
    {
     "name": "stdin",
     "output_type": "stream",
     "text": [
      "Enter the initial state (a string of numbers from 0 to 8):  724506831\n"
     ]
    },
    {
     "name": "stdout",
     "output_type": "stream",
     "text": [
      "Goal state found: 720534816\n",
      "Sequence of actions:\n",
      "2\n",
      "4\n",
      "1\n",
      "1\n"
     ]
    },
    {
     "data": {
      "text/plain": [
       "'720534816'"
      ]
     },
     "execution_count": 16,
     "metadata": {},
     "output_type": "execute_result"
    }
   ],
   "source": [
    "def is_divisible_by_three(num):\n",
    "    return num % 3 == 0\n",
    "\n",
    "def generate_potential_states(state):\n",
    "    potential_states = []\n",
    "    for i in range(len(state)):\n",
    "        for j in range(i + 1, len(state)):\n",
    "            new_state = list(state)\n",
    "            new_state[i], new_state[j] = new_state[j], new_state[i]\n",
    "            potential_states.append(\"\".join(new_state))\n",
    "    return potential_states\n",
    "\n",
    "# modified apply action function\n",
    "def apply_action2(current_state, action):\n",
    "    state_list = [int(digit) for digit in current_state]\n",
    "    empty_index = state_list.index(0)\n",
    "    rows, cols = 3, 3\n",
    "\n",
    "    if action == 1 and empty_index >= cols:  # up\n",
    "        new_state_list = state_list[:]\n",
    "        new_state_list[empty_index], new_state_list[empty_index - cols] = new_state_list[empty_index - cols], new_state_list[empty_index]\n",
    "        return \"\".join(map(str, new_state_list))\n",
    "    elif action == 2 and empty_index < (rows - 1) * cols:  # down\n",
    "        new_state_list = state_list[:]\n",
    "        new_state_list[empty_index], new_state_list[empty_index + cols] = new_state_list[empty_index + cols], new_state_list[empty_index]\n",
    "        return \"\".join(map(str, new_state_list))\n",
    "    elif action == 3 and empty_index % cols != 0:  # left\n",
    "        new_state_list = state_list[:]\n",
    "        new_state_list[empty_index], new_state_list[empty_index - 1] = new_state_list[empty_index - 1], new_state_list[empty_index]\n",
    "        return \"\".join(map(str, new_state_list))\n",
    "    elif action == 4 and (empty_index + 1) % cols != 0:  # right\n",
    "        new_state_list = state_list[:]\n",
    "        new_state_list[empty_index], new_state_list[empty_index + 1] = new_state_list[empty_index + 1], new_state_list[empty_index]\n",
    "        return \"\".join(map(str, new_state_list))\n",
    "    else:\n",
    "        # invalid action\n",
    "        return current_state\n",
    "\n",
    "def find_goal_state(initial_state):\n",
    "    #check if already a goal state\n",
    "    if all(is_divisible_by_three(int(initial_state[i:i+3])) for i in range(0, 9, 3)):\n",
    "        print(\"The initial state is already a goal state.\")\n",
    "        return initial_state\n",
    "    \n",
    "    current_state = initial_state\n",
    "    actions_sequence = []\n",
    "    visited = set()\n",
    "\n",
    "    while True:\n",
    "        if all(is_divisible_by_three(int(current_state[i:i+3])) for i in range(0, 9, 3)):\n",
    "            print(\"Goal state found:\", current_state)\n",
    "            print(\"Sequence of actions:\")\n",
    "            for action in actions_sequence:\n",
    "                print(action)\n",
    "            return current_state\n",
    "        \n",
    "        visited.add(current_state)\n",
    "        action = random.randint(1, 4)\n",
    "        new_state = apply_action2(current_state, action)\n",
    "        \n",
    "        if new_state not in visited:\n",
    "            actions_sequence.append(action)\n",
    "            current_state = new_state\n",
    "\n",
    "# user input and function call\n",
    "initial_state = input(\"Enter the initial state (a string of numbers from 0 to 8): \")\n",
    "find_goal_state(initial_state)"
   ]
  },
  {
   "cell_type": "markdown",
   "id": "bc54698f-dcd5-46a2-b054-1cfc499bc90a",
   "metadata": {},
   "source": []
  }
 ],
 "metadata": {
  "kernelspec": {
   "display_name": "Python 3 (ipykernel)",
   "language": "python",
   "name": "python3"
  },
  "language_info": {
   "codemirror_mode": {
    "name": "ipython",
    "version": 3
   },
   "file_extension": ".py",
   "mimetype": "text/x-python",
   "name": "python",
   "nbconvert_exporter": "python",
   "pygments_lexer": "ipython3",
   "version": "3.9.12"
  }
 },
 "nbformat": 4,
 "nbformat_minor": 5
}
